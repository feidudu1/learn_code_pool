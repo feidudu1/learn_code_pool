{
 "cells": [
  {
   "cell_type": "code",
   "execution_count": 2,
   "metadata": {
    "collapsed": true
   },
   "outputs": [],
   "source": [
    "import numpy as np\n",
    "import pandas as pd\n",
    "from pandas import Series, DataFrame"
   ]
  },
  {
   "cell_type": "markdown",
   "metadata": {},
   "source": [
    "# Series的排序"
   ]
  },
  {
   "cell_type": "code",
   "execution_count": 3,
   "metadata": {
    "collapsed": true
   },
   "outputs": [],
   "source": [
    "s1 = Series(np.random.randn(10))"
   ]
  },
  {
   "cell_type": "code",
   "execution_count": 4,
   "metadata": {},
   "outputs": [
    {
     "data": {
      "text/plain": [
       "0    0.084657\n",
       "1   -0.501948\n",
       "2    0.237186\n",
       "3   -1.480518\n",
       "4   -0.037066\n",
       "5    2.614151\n",
       "6    1.182775\n",
       "7   -1.900587\n",
       "8   -0.911004\n",
       "9   -0.619295\n",
       "dtype: float64"
      ]
     },
     "execution_count": 4,
     "metadata": {},
     "output_type": "execute_result"
    }
   ],
   "source": [
    "s1"
   ]
  },
  {
   "cell_type": "code",
   "execution_count": 5,
   "metadata": {},
   "outputs": [
    {
     "data": {
      "text/plain": [
       "array([ 0.08465668, -0.50194847,  0.23718577, -1.48051761, -0.03706643,\n",
       "        2.6141505 ,  1.18277512, -1.90058712, -0.91100364, -0.61929533])"
      ]
     },
     "execution_count": 5,
     "metadata": {},
     "output_type": "execute_result"
    }
   ],
   "source": [
    "s1.values"
   ]
  },
  {
   "cell_type": "code",
   "execution_count": 6,
   "metadata": {},
   "outputs": [
    {
     "data": {
      "text/plain": [
       "RangeIndex(start=0, stop=10, step=1)"
      ]
     },
     "execution_count": 6,
     "metadata": {},
     "output_type": "execute_result"
    }
   ],
   "source": [
    "s1.index"
   ]
  },
  {
   "cell_type": "code",
   "execution_count": 7,
   "metadata": {
    "collapsed": true
   },
   "outputs": [],
   "source": [
    "s2 = s1.sort_values(ascending=False)"
   ]
  },
  {
   "cell_type": "code",
   "execution_count": 8,
   "metadata": {},
   "outputs": [
    {
     "data": {
      "text/plain": [
       "5    2.614151\n",
       "6    1.182775\n",
       "2    0.237186\n",
       "0    0.084657\n",
       "4   -0.037066\n",
       "1   -0.501948\n",
       "9   -0.619295\n",
       "8   -0.911004\n",
       "3   -1.480518\n",
       "7   -1.900587\n",
       "dtype: float64"
      ]
     },
     "execution_count": 8,
     "metadata": {},
     "output_type": "execute_result"
    }
   ],
   "source": [
    "s2"
   ]
  },
  {
   "cell_type": "code",
   "execution_count": 9,
   "metadata": {},
   "outputs": [
    {
     "data": {
      "text/plain": [
       "0    0.084657\n",
       "1   -0.501948\n",
       "2    0.237186\n",
       "3   -1.480518\n",
       "4   -0.037066\n",
       "5    2.614151\n",
       "6    1.182775\n",
       "7   -1.900587\n",
       "8   -0.911004\n",
       "9   -0.619295\n",
       "dtype: float64"
      ]
     },
     "execution_count": 9,
     "metadata": {},
     "output_type": "execute_result"
    }
   ],
   "source": [
    "s2.sort_index()"
   ]
  },
  {
   "cell_type": "markdown",
   "metadata": {},
   "source": [
    "# Dataframe的排序"
   ]
  },
  {
   "cell_type": "code",
   "execution_count": 10,
   "metadata": {
    "collapsed": true
   },
   "outputs": [],
   "source": [
    "df1 = DataFrame(np.random.randn(40).reshape(8,5), columns=['A','B','C','D','E'])"
   ]
  },
  {
   "cell_type": "code",
   "execution_count": 11,
   "metadata": {},
   "outputs": [
    {
     "data": {
      "text/html": [
       "<div>\n",
       "<style scoped>\n",
       "    .dataframe tbody tr th:only-of-type {\n",
       "        vertical-align: middle;\n",
       "    }\n",
       "\n",
       "    .dataframe tbody tr th {\n",
       "        vertical-align: top;\n",
       "    }\n",
       "\n",
       "    .dataframe thead th {\n",
       "        text-align: right;\n",
       "    }\n",
       "</style>\n",
       "<table border=\"1\" class=\"dataframe\">\n",
       "  <thead>\n",
       "    <tr style=\"text-align: right;\">\n",
       "      <th></th>\n",
       "      <th>A</th>\n",
       "      <th>B</th>\n",
       "      <th>C</th>\n",
       "      <th>D</th>\n",
       "      <th>E</th>\n",
       "    </tr>\n",
       "  </thead>\n",
       "  <tbody>\n",
       "    <tr>\n",
       "      <th>0</th>\n",
       "      <td>0.745535</td>\n",
       "      <td>-1.225886</td>\n",
       "      <td>0.455421</td>\n",
       "      <td>0.361876</td>\n",
       "      <td>0.740708</td>\n",
       "    </tr>\n",
       "    <tr>\n",
       "      <th>1</th>\n",
       "      <td>0.716446</td>\n",
       "      <td>0.221984</td>\n",
       "      <td>1.895794</td>\n",
       "      <td>-0.218534</td>\n",
       "      <td>-0.394482</td>\n",
       "    </tr>\n",
       "    <tr>\n",
       "      <th>2</th>\n",
       "      <td>-0.357597</td>\n",
       "      <td>-0.801388</td>\n",
       "      <td>0.359851</td>\n",
       "      <td>-0.152835</td>\n",
       "      <td>-1.544141</td>\n",
       "    </tr>\n",
       "    <tr>\n",
       "      <th>3</th>\n",
       "      <td>-2.011790</td>\n",
       "      <td>0.863934</td>\n",
       "      <td>-0.360802</td>\n",
       "      <td>-0.572859</td>\n",
       "      <td>-0.738997</td>\n",
       "    </tr>\n",
       "    <tr>\n",
       "      <th>4</th>\n",
       "      <td>1.755475</td>\n",
       "      <td>-0.682866</td>\n",
       "      <td>-1.905142</td>\n",
       "      <td>-1.792424</td>\n",
       "      <td>0.603157</td>\n",
       "    </tr>\n",
       "    <tr>\n",
       "      <th>5</th>\n",
       "      <td>0.764764</td>\n",
       "      <td>0.617362</td>\n",
       "      <td>1.699967</td>\n",
       "      <td>-1.177330</td>\n",
       "      <td>0.538042</td>\n",
       "    </tr>\n",
       "    <tr>\n",
       "      <th>6</th>\n",
       "      <td>-0.976728</td>\n",
       "      <td>1.100507</td>\n",
       "      <td>-1.416792</td>\n",
       "      <td>0.789803</td>\n",
       "      <td>0.676727</td>\n",
       "    </tr>\n",
       "    <tr>\n",
       "      <th>7</th>\n",
       "      <td>1.100776</td>\n",
       "      <td>-0.127788</td>\n",
       "      <td>0.652165</td>\n",
       "      <td>0.123399</td>\n",
       "      <td>-0.598480</td>\n",
       "    </tr>\n",
       "  </tbody>\n",
       "</table>\n",
       "</div>"
      ],
      "text/plain": [
       "          A         B         C         D         E\n",
       "0  0.745535 -1.225886  0.455421  0.361876  0.740708\n",
       "1  0.716446  0.221984  1.895794 -0.218534 -0.394482\n",
       "2 -0.357597 -0.801388  0.359851 -0.152835 -1.544141\n",
       "3 -2.011790  0.863934 -0.360802 -0.572859 -0.738997\n",
       "4  1.755475 -0.682866 -1.905142 -1.792424  0.603157\n",
       "5  0.764764  0.617362  1.699967 -1.177330  0.538042\n",
       "6 -0.976728  1.100507 -1.416792  0.789803  0.676727\n",
       "7  1.100776 -0.127788  0.652165  0.123399 -0.598480"
      ]
     },
     "execution_count": 11,
     "metadata": {},
     "output_type": "execute_result"
    }
   ],
   "source": [
    "df1"
   ]
  },
  {
   "cell_type": "code",
   "execution_count": 12,
   "metadata": {},
   "outputs": [
    {
     "data": {
      "text/plain": [
       "3   -2.011790\n",
       "6   -0.976728\n",
       "2   -0.357597\n",
       "1    0.716446\n",
       "0    0.745535\n",
       "5    0.764764\n",
       "7    1.100776\n",
       "4    1.755475\n",
       "Name: A, dtype: float64"
      ]
     },
     "execution_count": 12,
     "metadata": {},
     "output_type": "execute_result"
    }
   ],
   "source": [
    "df1['A'].sort_values()"
   ]
  },
  {
   "cell_type": "code",
   "execution_count": 13,
   "metadata": {
    "collapsed": true,
    "scrolled": true
   },
   "outputs": [],
   "source": [
    "df2 = df1.sort_values('A')"
   ]
  },
  {
   "cell_type": "code",
   "execution_count": 14,
   "metadata": {},
   "outputs": [
    {
     "data": {
      "text/html": [
       "<div>\n",
       "<style scoped>\n",
       "    .dataframe tbody tr th:only-of-type {\n",
       "        vertical-align: middle;\n",
       "    }\n",
       "\n",
       "    .dataframe tbody tr th {\n",
       "        vertical-align: top;\n",
       "    }\n",
       "\n",
       "    .dataframe thead th {\n",
       "        text-align: right;\n",
       "    }\n",
       "</style>\n",
       "<table border=\"1\" class=\"dataframe\">\n",
       "  <thead>\n",
       "    <tr style=\"text-align: right;\">\n",
       "      <th></th>\n",
       "      <th>A</th>\n",
       "      <th>B</th>\n",
       "      <th>C</th>\n",
       "      <th>D</th>\n",
       "      <th>E</th>\n",
       "    </tr>\n",
       "  </thead>\n",
       "  <tbody>\n",
       "    <tr>\n",
       "      <th>3</th>\n",
       "      <td>-2.011790</td>\n",
       "      <td>0.863934</td>\n",
       "      <td>-0.360802</td>\n",
       "      <td>-0.572859</td>\n",
       "      <td>-0.738997</td>\n",
       "    </tr>\n",
       "    <tr>\n",
       "      <th>6</th>\n",
       "      <td>-0.976728</td>\n",
       "      <td>1.100507</td>\n",
       "      <td>-1.416792</td>\n",
       "      <td>0.789803</td>\n",
       "      <td>0.676727</td>\n",
       "    </tr>\n",
       "    <tr>\n",
       "      <th>2</th>\n",
       "      <td>-0.357597</td>\n",
       "      <td>-0.801388</td>\n",
       "      <td>0.359851</td>\n",
       "      <td>-0.152835</td>\n",
       "      <td>-1.544141</td>\n",
       "    </tr>\n",
       "    <tr>\n",
       "      <th>1</th>\n",
       "      <td>0.716446</td>\n",
       "      <td>0.221984</td>\n",
       "      <td>1.895794</td>\n",
       "      <td>-0.218534</td>\n",
       "      <td>-0.394482</td>\n",
       "    </tr>\n",
       "    <tr>\n",
       "      <th>0</th>\n",
       "      <td>0.745535</td>\n",
       "      <td>-1.225886</td>\n",
       "      <td>0.455421</td>\n",
       "      <td>0.361876</td>\n",
       "      <td>0.740708</td>\n",
       "    </tr>\n",
       "    <tr>\n",
       "      <th>5</th>\n",
       "      <td>0.764764</td>\n",
       "      <td>0.617362</td>\n",
       "      <td>1.699967</td>\n",
       "      <td>-1.177330</td>\n",
       "      <td>0.538042</td>\n",
       "    </tr>\n",
       "    <tr>\n",
       "      <th>7</th>\n",
       "      <td>1.100776</td>\n",
       "      <td>-0.127788</td>\n",
       "      <td>0.652165</td>\n",
       "      <td>0.123399</td>\n",
       "      <td>-0.598480</td>\n",
       "    </tr>\n",
       "    <tr>\n",
       "      <th>4</th>\n",
       "      <td>1.755475</td>\n",
       "      <td>-0.682866</td>\n",
       "      <td>-1.905142</td>\n",
       "      <td>-1.792424</td>\n",
       "      <td>0.603157</td>\n",
       "    </tr>\n",
       "  </tbody>\n",
       "</table>\n",
       "</div>"
      ],
      "text/plain": [
       "          A         B         C         D         E\n",
       "3 -2.011790  0.863934 -0.360802 -0.572859 -0.738997\n",
       "6 -0.976728  1.100507 -1.416792  0.789803  0.676727\n",
       "2 -0.357597 -0.801388  0.359851 -0.152835 -1.544141\n",
       "1  0.716446  0.221984  1.895794 -0.218534 -0.394482\n",
       "0  0.745535 -1.225886  0.455421  0.361876  0.740708\n",
       "5  0.764764  0.617362  1.699967 -1.177330  0.538042\n",
       "7  1.100776 -0.127788  0.652165  0.123399 -0.598480\n",
       "4  1.755475 -0.682866 -1.905142 -1.792424  0.603157"
      ]
     },
     "execution_count": 14,
     "metadata": {},
     "output_type": "execute_result"
    }
   ],
   "source": [
    "df2"
   ]
  },
  {
   "cell_type": "code",
   "execution_count": 15,
   "metadata": {},
   "outputs": [
    {
     "data": {
      "text/html": [
       "<div>\n",
       "<style scoped>\n",
       "    .dataframe tbody tr th:only-of-type {\n",
       "        vertical-align: middle;\n",
       "    }\n",
       "\n",
       "    .dataframe tbody tr th {\n",
       "        vertical-align: top;\n",
       "    }\n",
       "\n",
       "    .dataframe thead th {\n",
       "        text-align: right;\n",
       "    }\n",
       "</style>\n",
       "<table border=\"1\" class=\"dataframe\">\n",
       "  <thead>\n",
       "    <tr style=\"text-align: right;\">\n",
       "      <th></th>\n",
       "      <th>A</th>\n",
       "      <th>B</th>\n",
       "      <th>C</th>\n",
       "      <th>D</th>\n",
       "      <th>E</th>\n",
       "    </tr>\n",
       "  </thead>\n",
       "  <tbody>\n",
       "    <tr>\n",
       "      <th>0</th>\n",
       "      <td>0.745535</td>\n",
       "      <td>-1.225886</td>\n",
       "      <td>0.455421</td>\n",
       "      <td>0.361876</td>\n",
       "      <td>0.740708</td>\n",
       "    </tr>\n",
       "    <tr>\n",
       "      <th>1</th>\n",
       "      <td>0.716446</td>\n",
       "      <td>0.221984</td>\n",
       "      <td>1.895794</td>\n",
       "      <td>-0.218534</td>\n",
       "      <td>-0.394482</td>\n",
       "    </tr>\n",
       "    <tr>\n",
       "      <th>2</th>\n",
       "      <td>-0.357597</td>\n",
       "      <td>-0.801388</td>\n",
       "      <td>0.359851</td>\n",
       "      <td>-0.152835</td>\n",
       "      <td>-1.544141</td>\n",
       "    </tr>\n",
       "    <tr>\n",
       "      <th>3</th>\n",
       "      <td>-2.011790</td>\n",
       "      <td>0.863934</td>\n",
       "      <td>-0.360802</td>\n",
       "      <td>-0.572859</td>\n",
       "      <td>-0.738997</td>\n",
       "    </tr>\n",
       "    <tr>\n",
       "      <th>4</th>\n",
       "      <td>1.755475</td>\n",
       "      <td>-0.682866</td>\n",
       "      <td>-1.905142</td>\n",
       "      <td>-1.792424</td>\n",
       "      <td>0.603157</td>\n",
       "    </tr>\n",
       "    <tr>\n",
       "      <th>5</th>\n",
       "      <td>0.764764</td>\n",
       "      <td>0.617362</td>\n",
       "      <td>1.699967</td>\n",
       "      <td>-1.177330</td>\n",
       "      <td>0.538042</td>\n",
       "    </tr>\n",
       "    <tr>\n",
       "      <th>6</th>\n",
       "      <td>-0.976728</td>\n",
       "      <td>1.100507</td>\n",
       "      <td>-1.416792</td>\n",
       "      <td>0.789803</td>\n",
       "      <td>0.676727</td>\n",
       "    </tr>\n",
       "    <tr>\n",
       "      <th>7</th>\n",
       "      <td>1.100776</td>\n",
       "      <td>-0.127788</td>\n",
       "      <td>0.652165</td>\n",
       "      <td>0.123399</td>\n",
       "      <td>-0.598480</td>\n",
       "    </tr>\n",
       "  </tbody>\n",
       "</table>\n",
       "</div>"
      ],
      "text/plain": [
       "          A         B         C         D         E\n",
       "0  0.745535 -1.225886  0.455421  0.361876  0.740708\n",
       "1  0.716446  0.221984  1.895794 -0.218534 -0.394482\n",
       "2 -0.357597 -0.801388  0.359851 -0.152835 -1.544141\n",
       "3 -2.011790  0.863934 -0.360802 -0.572859 -0.738997\n",
       "4  1.755475 -0.682866 -1.905142 -1.792424  0.603157\n",
       "5  0.764764  0.617362  1.699967 -1.177330  0.538042\n",
       "6 -0.976728  1.100507 -1.416792  0.789803  0.676727\n",
       "7  1.100776 -0.127788  0.652165  0.123399 -0.598480"
      ]
     },
     "execution_count": 15,
     "metadata": {},
     "output_type": "execute_result"
    }
   ],
   "source": [
    "df2.sort_index()"
   ]
  },
  {
   "cell_type": "code",
   "execution_count": 16,
   "metadata": {},
   "outputs": [
    {
     "data": {
      "text/html": [
       "<div>\n",
       "<style scoped>\n",
       "    .dataframe tbody tr th:only-of-type {\n",
       "        vertical-align: middle;\n",
       "    }\n",
       "\n",
       "    .dataframe tbody tr th {\n",
       "        vertical-align: top;\n",
       "    }\n",
       "\n",
       "    .dataframe thead th {\n",
       "        text-align: right;\n",
       "    }\n",
       "</style>\n",
       "<table border=\"1\" class=\"dataframe\">\n",
       "  <thead>\n",
       "    <tr style=\"text-align: right;\">\n",
       "      <th></th>\n",
       "      <th>A</th>\n",
       "      <th>B</th>\n",
       "      <th>C</th>\n",
       "      <th>D</th>\n",
       "      <th>E</th>\n",
       "    </tr>\n",
       "  </thead>\n",
       "  <tbody>\n",
       "    <tr>\n",
       "      <th>0</th>\n",
       "      <td>0.745535</td>\n",
       "      <td>-1.225886</td>\n",
       "      <td>0.455421</td>\n",
       "      <td>0.361876</td>\n",
       "      <td>0.740708</td>\n",
       "    </tr>\n",
       "    <tr>\n",
       "      <th>1</th>\n",
       "      <td>0.716446</td>\n",
       "      <td>0.221984</td>\n",
       "      <td>1.895794</td>\n",
       "      <td>-0.218534</td>\n",
       "      <td>-0.394482</td>\n",
       "    </tr>\n",
       "    <tr>\n",
       "      <th>2</th>\n",
       "      <td>-0.357597</td>\n",
       "      <td>-0.801388</td>\n",
       "      <td>0.359851</td>\n",
       "      <td>-0.152835</td>\n",
       "      <td>-1.544141</td>\n",
       "    </tr>\n",
       "    <tr>\n",
       "      <th>3</th>\n",
       "      <td>-2.011790</td>\n",
       "      <td>0.863934</td>\n",
       "      <td>-0.360802</td>\n",
       "      <td>-0.572859</td>\n",
       "      <td>-0.738997</td>\n",
       "    </tr>\n",
       "    <tr>\n",
       "      <th>4</th>\n",
       "      <td>1.755475</td>\n",
       "      <td>-0.682866</td>\n",
       "      <td>-1.905142</td>\n",
       "      <td>-1.792424</td>\n",
       "      <td>0.603157</td>\n",
       "    </tr>\n",
       "    <tr>\n",
       "      <th>5</th>\n",
       "      <td>0.764764</td>\n",
       "      <td>0.617362</td>\n",
       "      <td>1.699967</td>\n",
       "      <td>-1.177330</td>\n",
       "      <td>0.538042</td>\n",
       "    </tr>\n",
       "    <tr>\n",
       "      <th>6</th>\n",
       "      <td>-0.976728</td>\n",
       "      <td>1.100507</td>\n",
       "      <td>-1.416792</td>\n",
       "      <td>0.789803</td>\n",
       "      <td>0.676727</td>\n",
       "    </tr>\n",
       "    <tr>\n",
       "      <th>7</th>\n",
       "      <td>1.100776</td>\n",
       "      <td>-0.127788</td>\n",
       "      <td>0.652165</td>\n",
       "      <td>0.123399</td>\n",
       "      <td>-0.598480</td>\n",
       "    </tr>\n",
       "  </tbody>\n",
       "</table>\n",
       "</div>"
      ],
      "text/plain": [
       "          A         B         C         D         E\n",
       "0  0.745535 -1.225886  0.455421  0.361876  0.740708\n",
       "1  0.716446  0.221984  1.895794 -0.218534 -0.394482\n",
       "2 -0.357597 -0.801388  0.359851 -0.152835 -1.544141\n",
       "3 -2.011790  0.863934 -0.360802 -0.572859 -0.738997\n",
       "4  1.755475 -0.682866 -1.905142 -1.792424  0.603157\n",
       "5  0.764764  0.617362  1.699967 -1.177330  0.538042\n",
       "6 -0.976728  1.100507 -1.416792  0.789803  0.676727\n",
       "7  1.100776 -0.127788  0.652165  0.123399 -0.598480"
      ]
     },
     "execution_count": 16,
     "metadata": {},
     "output_type": "execute_result"
    }
   ],
   "source": [
    "df1"
   ]
  },
  {
   "cell_type": "markdown",
   "metadata": {},
   "source": [
    "# 作业\n",
    "只需要 imdb_score、director_name、movie_title这三列，且按照 imdb_score 的降序排列\n",
    "\n",
    "只用一行代码实现\n",
    "\n",
    "数据用 ../homework/movie_metadata.csv"
   ]
  },
  {
   "cell_type": "code",
   "execution_count": 26,
   "metadata": {},
   "outputs": [],
   "source": [
    "csv_input = '../homework/movie_metadata.csv'\n",
    "pd.read_csv(csv_input)[['movie_title', 'director_name', 'imdb_score']].sort_values('imdb_score', ascending=False).to_csv('./imdb_copy.csv')"
   ]
  },
  {
   "cell_type": "code",
   "execution_count": 27,
   "metadata": {},
   "outputs": [
    {
     "name": "stdout",
     "output_type": "stream",
     "text": [
      "1Series和DataFrame的简单数学运算.ipynb\n",
      "2Series和DataFrame的排序.ipynb\n",
      "3重命名DataFrame的Index.ipynb\n",
      "Concatenate和Combine.ipynb\n",
      "DataFrame的merge操作.ipynb\n",
      "Untitled.ipynb\n",
      "imdb.csv\n",
      "imdb_copy.csv\n",
      "分组和透视表功能实战.ipynb\n",
      "数据分箱技术Binning.ipynb\n",
      "数据分组技术GroupBy.ipynb\n",
      "数据聚合技术Aggregation.ipynb\n",
      "时间序列数据的采样和画图.ipynb\n",
      "时间序列的操作基础.ipynb\n",
      "透视表.ipynb\n",
      "通过apply进行数据预处理.ipynb\n",
      "通过去重进行数据清洗.ipynb\n"
     ]
    }
   ],
   "source": [
    "!ls"
   ]
  },
  {
   "cell_type": "code",
   "execution_count": 18,
   "metadata": {},
   "outputs": [],
   "source": [
    "df_results = pd.read_csv('imdb.csv')"
   ]
  },
  {
   "cell_type": "code",
   "execution_count": 19,
   "metadata": {
    "collapsed": true
   },
   "outputs": [
    {
     "data": {
      "text/html": [
       "<div>\n",
       "<style scoped>\n",
       "    .dataframe tbody tr th:only-of-type {\n",
       "        vertical-align: middle;\n",
       "    }\n",
       "\n",
       "    .dataframe tbody tr th {\n",
       "        vertical-align: top;\n",
       "    }\n",
       "\n",
       "    .dataframe thead th {\n",
       "        text-align: right;\n",
       "    }\n",
       "</style>\n",
       "<table border=\"1\" class=\"dataframe\">\n",
       "  <thead>\n",
       "    <tr style=\"text-align: right;\">\n",
       "      <th></th>\n",
       "      <th>Unnamed: 0</th>\n",
       "      <th>movie_title</th>\n",
       "      <th>director_name</th>\n",
       "      <th>imdb_score</th>\n",
       "    </tr>\n",
       "  </thead>\n",
       "  <tbody>\n",
       "    <tr>\n",
       "      <th>0</th>\n",
       "      <td>2765</td>\n",
       "      <td>Towering Inferno</td>\n",
       "      <td>John Blanchard</td>\n",
       "      <td>9.5</td>\n",
       "    </tr>\n",
       "    <tr>\n",
       "      <th>1</th>\n",
       "      <td>1937</td>\n",
       "      <td>The Shawshank Redemption</td>\n",
       "      <td>Frank Darabont</td>\n",
       "      <td>9.3</td>\n",
       "    </tr>\n",
       "    <tr>\n",
       "      <th>2</th>\n",
       "      <td>3466</td>\n",
       "      <td>The Godfather</td>\n",
       "      <td>Francis Ford Coppola</td>\n",
       "      <td>9.2</td>\n",
       "    </tr>\n",
       "    <tr>\n",
       "      <th>3</th>\n",
       "      <td>4409</td>\n",
       "      <td>Kickboxer: Vengeance</td>\n",
       "      <td>John Stockwell</td>\n",
       "      <td>9.1</td>\n",
       "    </tr>\n",
       "    <tr>\n",
       "      <th>4</th>\n",
       "      <td>2824</td>\n",
       "      <td>Dekalog</td>\n",
       "      <td>NaN</td>\n",
       "      <td>9.1</td>\n",
       "    </tr>\n",
       "    <tr>\n",
       "      <th>...</th>\n",
       "      <td>...</td>\n",
       "      <td>...</td>\n",
       "      <td>...</td>\n",
       "      <td>...</td>\n",
       "    </tr>\n",
       "    <tr>\n",
       "      <th>5038</th>\n",
       "      <td>2268</td>\n",
       "      <td>Disaster Movie</td>\n",
       "      <td>Jason Friedberg</td>\n",
       "      <td>1.9</td>\n",
       "    </tr>\n",
       "    <tr>\n",
       "      <th>5039</th>\n",
       "      <td>2295</td>\n",
       "      <td>Superbabies: Baby Geniuses 2</td>\n",
       "      <td>Bob Clark</td>\n",
       "      <td>1.9</td>\n",
       "    </tr>\n",
       "    <tr>\n",
       "      <th>5040</th>\n",
       "      <td>4605</td>\n",
       "      <td>The Helix... Loaded</td>\n",
       "      <td>A. Raven Cruz</td>\n",
       "      <td>1.9</td>\n",
       "    </tr>\n",
       "    <tr>\n",
       "      <th>5041</th>\n",
       "      <td>1136</td>\n",
       "      <td>Foodfight!</td>\n",
       "      <td>Lawrence Kasanoff</td>\n",
       "      <td>1.7</td>\n",
       "    </tr>\n",
       "    <tr>\n",
       "      <th>5042</th>\n",
       "      <td>2834</td>\n",
       "      <td>Justin Bieber: Never Say Never</td>\n",
       "      <td>Jon M. Chu</td>\n",
       "      <td>1.6</td>\n",
       "    </tr>\n",
       "  </tbody>\n",
       "</table>\n",
       "<p>5043 rows × 4 columns</p>\n",
       "</div>"
      ],
      "text/plain": [
       "      Unnamed: 0                      movie_title         director_name  \\\n",
       "0           2765    Towering Inferno                     John Blanchard   \n",
       "1           1937        The Shawshank Redemption         Frank Darabont   \n",
       "2           3466                   The Godfather   Francis Ford Coppola   \n",
       "3           4409            Kickboxer: Vengeance         John Stockwell   \n",
       "4           2824             Dekalog                                NaN   \n",
       "...          ...                              ...                   ...   \n",
       "5038        2268                  Disaster Movie        Jason Friedberg   \n",
       "5039        2295    Superbabies: Baby Geniuses 2              Bob Clark   \n",
       "5040        4605             The Helix... Loaded          A. Raven Cruz   \n",
       "5041        1136                      Foodfight!      Lawrence Kasanoff   \n",
       "5042        2834  Justin Bieber: Never Say Never             Jon M. Chu   \n",
       "\n",
       "      imdb_score  \n",
       "0            9.5  \n",
       "1            9.3  \n",
       "2            9.2  \n",
       "3            9.1  \n",
       "4            9.1  \n",
       "...          ...  \n",
       "5038         1.9  \n",
       "5039         1.9  \n",
       "5040         1.9  \n",
       "5041         1.7  \n",
       "5042         1.6  \n",
       "\n",
       "[5043 rows x 4 columns]"
      ]
     },
     "execution_count": 19,
     "metadata": {},
     "output_type": "execute_result"
    }
   ],
   "source": [
    "df_results"
   ]
  },
  {
   "cell_type": "code",
   "execution_count": null,
   "metadata": {
    "collapsed": true
   },
   "outputs": [],
   "source": []
  }
 ],
 "metadata": {
  "kernelspec": {
   "display_name": "Python 3",
   "language": "python",
   "name": "python3"
  },
  "language_info": {
   "codemirror_mode": {
    "name": "ipython",
    "version": 3
   },
   "file_extension": ".py",
   "mimetype": "text/x-python",
   "name": "python",
   "nbconvert_exporter": "python",
   "pygments_lexer": "ipython3",
   "version": "3.11.4"
  }
 },
 "nbformat": 4,
 "nbformat_minor": 2
}
